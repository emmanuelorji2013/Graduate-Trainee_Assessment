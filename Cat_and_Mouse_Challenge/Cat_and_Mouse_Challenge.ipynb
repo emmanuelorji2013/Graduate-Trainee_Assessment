{
 "cells": [
  {
   "cell_type": "code",
   "execution_count": 2,
   "metadata": {},
   "outputs": [
    {
     "name": "stdout",
     "output_type": "stream",
     "text": [
      "Cat B\n",
      "\n",
      "Cat B\n",
      "\n"
     ]
    }
   ],
   "source": [
    "#!/bin/python3\n",
    "\n",
    "#import math\n",
    "#import os\n",
    "#import random\n",
    "#import re\n",
    "#import sys\n",
    "\n",
    "# Complete the catAndMouse function below.\n",
    "def catAndMouse(x, y, z):\n",
    "    x_abs, y_abs = abs(x - z), abs(y - z)\n",
    "    return {x_abs < y_abs: 'Cat A', y_abs < x_abs: 'Cat B' }.get(True, 'Mouse C')\n",
    "    # The get() function returns the value of a specified dict key (in this case, True)\n",
    "    # Returns the specified key if key ('Mouse C' in this case) not found\n",
    "\n",
    "if __name__ == '__main__':\n",
    "    fptr = open('catAndMouse_Output', 'w')\n",
    "\n",
    "    q = int(input('Input number of queries: '))\n",
    "\n",
    "    for q_itr in range(q):\n",
    "        xyz = input('Enter {} lines of space-sparated queries'.format(q)).split()\n",
    "\n",
    "        x = int(xyz[0])\n",
    "\n",
    "        y = int(xyz[1])\n",
    "\n",
    "        z = int(xyz[2])\n",
    "\n",
    "        result = catAndMouse(x, y, z)\n",
    "\n",
    "        print('{}\\n'.format(result))\n",
    "        fptr.write(result + '\\n')\n",
    "    fptr.close()\n"
   ]
  },
  {
   "cell_type": "code",
   "execution_count": 24,
   "metadata": {},
   "outputs": [
    {
     "data": {
      "text/plain": [
       "2"
      ]
     },
     "execution_count": 24,
     "metadata": {},
     "output_type": "execute_result"
    }
   ],
   "source": [
    "a, b = abs(x - z), abs(y - z)\n",
    "a"
   ]
  },
  {
   "cell_type": "code",
   "execution_count": null,
   "metadata": {},
   "outputs": [],
   "source": []
  }
 ],
 "metadata": {
  "kernelspec": {
   "display_name": "Python 3",
   "language": "python",
   "name": "python3"
  },
  "language_info": {
   "codemirror_mode": {
    "name": "ipython",
    "version": 3
   },
   "file_extension": ".py",
   "mimetype": "text/x-python",
   "name": "python",
   "nbconvert_exporter": "python",
   "pygments_lexer": "ipython3",
   "version": "3.7.3"
  }
 },
 "nbformat": 4,
 "nbformat_minor": 2
}
